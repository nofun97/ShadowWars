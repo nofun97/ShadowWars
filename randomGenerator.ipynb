{
 "cells": [
  {
   "cell_type": "code",
   "execution_count": 10,
   "metadata": {},
   "outputs": [],
   "source": [
    "import random\n",
    "start = 64\n",
    "end = 960\n",
    "rows = 100\n",
    "enemy = [\"BasicEnemy\", \"SineEnemy\", \"BasicShooter\", \"MinionShooter\", \"MiniSwarm\", \"SineShooter\"]\n",
    "def getRandomLocation():\n",
    "    return randrange(start, end)"
   ]
  },
  {
   "cell_type": "code",
   "execution_count": 11,
   "metadata": {},
   "outputs": [],
   "source": [
    "def makeLinearShit(length, delta, start):\n",
    "    l = []\n",
    "    for i in range(length):\n",
    "        l.append(start + i* delta)\n",
    "    return l"
   ]
  },
  {
   "cell_type": "code",
   "execution_count": 77,
   "metadata": {},
   "outputs": [],
   "source": [
    "time = 0\n",
    "f = open(\"waves59.txt\",\"w+\")\n",
    "f.write(\"#randomly generated\\n\")\n",
    "for i in range(150):\n",
    "    if (i%10 == 0 and i != 0):\n",
    "        time += 1000\n",
    "    f.write(\"%s,%d,%d\\n\" % (random.choice(enemy), getRandomLocation(), time))\n",
    "    time += 100\n",
    "f.close()"
   ]
  },
  {
   "cell_type": "code",
   "execution_count": null,
   "metadata": {},
   "outputs": [],
   "source": []
  }
 ],
 "metadata": {
  "kernelspec": {
   "display_name": "Python 3",
   "language": "python",
   "name": "python3"
  },
  "language_info": {
   "codemirror_mode": {
    "name": "ipython",
    "version": 3
   },
   "file_extension": ".py",
   "mimetype": "text/x-python",
   "name": "python",
   "nbconvert_exporter": "python",
   "pygments_lexer": "ipython3",
   "version": "3.6.4"
  }
 },
 "nbformat": 4,
 "nbformat_minor": 2
}
